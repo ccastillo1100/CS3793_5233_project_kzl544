{
  "cells": [
    {
      "cell_type": "markdown",
      "metadata": {
        "id": "Dz_P9UNCRs7B"
      },
      "source": [
        "# UTSA CS 3793/5233: Project\n",
        "\n",
        "**Castillo Cesar - kzl544**"
      ]
    },
    {
      "cell_type": "markdown",
      "metadata": {
        "id": "3NtMl6Se_9Ic"
      },
      "source": [
        "## Topic: Body Pose Estimation - Yoga Pose Detection"
      ]
    },
    {
      "cell_type": "markdown",
      "metadata": {
        "id": "-842udkfSrj-"
      },
      "source": [
        "## Description\n",
        "\n",
        "This is an application of pose detection and estimation using the Blaze Pose model and a classifer to classify yoga poses using the support vector classifier from the sklearn library. The Blaze Pose model can be implemented through a library, well known as media pipe."
      ]
    },
    {
      "cell_type": "markdown",
      "metadata": {
        "id": "6H1vDJvRR53y"
      },
      "source": [
        "## Import Libraries"
      ]
    },
    {
      "cell_type": "code",
      "execution_count": null,
      "metadata": {
        "id": "4_WTR5plR5KX"
      },
      "outputs": [],
      "source": [
        "!pip install mediapipe\n",
        "import mediapipe as mp\n",
        "import cv2\n",
        "import time\n",
        "import numpy as np\n",
        "import pandas as pd\n",
        "import os\n",
        "from sklearn.svm import SVC\n",
        "from google.colab.patches import cv2_imshow"
      ]
    },
    {
      "cell_type": "code",
      "execution_count": null,
      "metadata": {
        "id": "An8bpG7ESUJ5"
      },
      "outputs": [],
      "source": [
        "# path = \"/DATASET/TRAIN/plank\" # complete the whole path if you need to. E.g. C:/Users/... or \"/content/drive/MyDrive/Colab Notebooks/...\""
      ]
    },
    {
      "cell_type": "code",
      "execution_count": null,
      "metadata": {
        "id": "po2isekVSSqd"
      },
      "outputs": [],
      "source": [
        "from google.colab import drive\n",
        "drive.mount('/content/drive')"
      ]
    },
    {
      "cell_type": "markdown",
      "metadata": {
        "id": "gzE_iZ0JSGH9"
      },
      "source": [
        "## Preparing Dataset for Pose Estimation"
      ]
    },
    {
      "cell_type": "code",
      "execution_count": null,
      "metadata": {
        "colab": {
          "background_save": true
        },
        "id": "l6V8PyJ4LQMU"
      },
      "outputs": [],
      "source": [
        "mpPose = mp.solutions.pose\n",
        "pose = mpPose.Pose()\n",
        "mpDraw = mp.solutions.drawing_utils # For drawing keypoints\n",
        "points = mpPose.PoseLandmark # Landmarks\n",
        "data = []\n",
        "for p in points:\n",
        "        x = str(p)[13:]\n",
        "        data.append(x + \"_x\")\n",
        "        data.append(x + \"_y\")\n",
        "        data.append(x + \"_z\")\n",
        "        data.append(x + \"_vis\")\n",
        "data = pd.DataFrame(columns = data) # Empty dataset\n",
        "\n",
        "count = 0\n",
        "\n",
        "for img in os.listdir(path):\n",
        "\n",
        "        temp = []\n",
        "\n",
        "        img = cv2.imread(path + \"/\" + img)\n",
        "\n",
        "        imageWidth, imageHeight = img.shape[:2]\n",
        "\n",
        "        imgRGB = cv2.cvtColor(img, cv2.COLOR_BGR2RGB)\n",
        "\n",
        "        blackie = np.zeros(img.shape) # Blank image\n",
        "\n",
        "        results = pose.process(imgRGB)\n",
        "\n",
        "        if results.pose_landmarks:\n",
        "\n",
        "                # mpDraw.draw_landmarks(img, results.pose_landmarks, mpPose.POSE_CONNECTIONS) # draw landmarks on image\n",
        "\n",
        "                mpDraw.draw_landmarks(blackie, results.pose_landmarks, mpPose.POSE_CONNECTIONS) # draw landmarks on blackie\n",
        "\n",
        "                landmarks = results.pose_landmarks.landmark\n",
        "\n",
        "                for i,j in zip(points,landmarks):\n",
        "\n",
        "                        temp = temp + [j.x, j.y, j.z, j.visibility]\n",
        "\n",
        "                data.loc[count] = temp\n",
        "\n",
        "                count +=1\n",
        "\n",
        "        cv2_imshow(img)\n",
        "\n",
        "        cv2_imshow(blackie)\n",
        "\n",
        "        #cv2.waitKey(100)\n",
        "\n",
        "data.to_csv(\"dataset3.csv\") # save the data as a csv file"
      ]
    },
    {
      "cell_type": "markdown",
      "metadata": {
        "id": "dZ0taXu-T43j"
      },
      "source": [
        "## Creating the Pose Estimation model"
      ]
    },
    {
      "cell_type": "code",
      "execution_count": null,
      "metadata": {
        "id": "xYKNgF7wT7x5"
      },
      "outputs": [],
      "source": [
        "data = pd.read_csv(\"dataset3.csv\")\n",
        "print(data.head())\n",
        "X = data.iloc[:,:132]\n",
        "Y = data['target']\n",
        "model = SVC(kernel = 'poly')\n",
        "model.fit(X,Y)\n",
        "mpPose = mp.solutions.pose\n",
        "pose = mpPose.Pose()\n",
        "mpDraw = mp.solutions.drawing_utils\n",
        "# path = \"enter path here\"\n",
        "imagePath = path + \"/\" + img\n",
        "img = cv2.imread(path)\n",
        "img = cv2.cvtColor(img, cv2.COLOR_BGR2RGB)\n",
        "results = pose.process(imgRGB)\n",
        "if results.pose_landmarks:\n",
        "        landmarks = results.pose_landmarks.landmark\n",
        "        for j in landmarks:\n",
        "                temp = temp + [j.x, j.y, j.z, j.visibility]\n",
        "        y = model.predict([temp])\n",
        "        if y == 0:\n",
        "            asan = \"plank\"\n",
        "        else:\n",
        "            asan = \"goddess\"\n",
        "        print(asan)\n",
        "        cv2.putText(img, asan, (50,50), cv2.FONT_HERSHEY_SIMPLEX,1,(255,255,0),3)\n",
        "        cv2.imshow(\"image\",img)"
      ]
    },
    {
      "cell_type": "markdown",
      "source": [
        "## Reference\n",
        "Gupta Ayush . **Human Pose Estimation Using Machine Learning in Python** [Internet]. 2021 October 26. Available from: https://www.analyticsvidhya.com/blog/2021/10/human-pose-estimation-using-machine-learning-in-python/\n",
        "\n"
      ],
      "metadata": {
        "id": "ttWHd71JxG56"
      }
    }
  ],
  "metadata": {
    "colab": {
      "collapsed_sections": [],
      "name": "CS3793_5233_project_kzl544.ipynb",
      "provenance": []
    },
    "kernelspec": {
      "display_name": "Python 3",
      "name": "python3"
    },
    "language_info": {
      "name": "python"
    }
  },
  "nbformat": 4,
  "nbformat_minor": 0
}